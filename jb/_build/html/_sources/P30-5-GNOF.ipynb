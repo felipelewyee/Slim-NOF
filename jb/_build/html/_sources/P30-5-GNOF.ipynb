{
 "cells": [
  {
   "cell_type": "markdown",
   "metadata": {},
   "source": [
    "# GNOF"
   ]
  },
  {
   "cell_type": "code",
   "execution_count": 1,
   "metadata": {
    "tags": [
     "remove-cell"
    ]
   },
   "outputs": [],
   "source": [
    "import yaml\n",
    "import numpy as np\n",
    "\n",
    "set_name = \"P30-5\"\n",
    "nof = \"GNOF\"\n",
    "file = open('{}-{}.yaml'.format(set_name, nof), 'r')\n",
    "data = yaml.safe_load(file)"
   ]
  },
  {
   "cell_type": "code",
   "execution_count": 2,
   "metadata": {
    "tags": [
     "remove-cell"
    ]
   },
   "outputs": [],
   "source": [
    "def get_total_MAD_of_whole_set(data):\n",
    "    ADs = []\n",
    "    for set in data:\n",
    "        for system in data[set]:\n",
    "            ADs.append(data[set][system][\"AD\"])\n",
    "    MAD_P30 = np.mean(ADs)\n",
    "    return MAD_P30\n",
    "\n",
    "def get_contribution_to_total_MADs(data):\n",
    "    MADs = []\n",
    "    for set in data:\n",
    "        ADs = []\n",
    "        for system in data[set]:\n",
    "            ADs.append(data[set][system][\"AD\"])\n",
    "        MADs.append(np.sum(ADs)/30)\n",
    "    return MADs\n",
    "\n",
    "def get_MADs(data):\n",
    "    MADs = []\n",
    "    for set in data:\n",
    "        ADs = []\n",
    "        for system in data[set]:\n",
    "            ADs.append(data[set][system][\"AD\"])\n",
    "        MADs.append(np.mean(ADs))\n",
    "    return MADs\n",
    "\n",
    "def get_Sets(data):\n",
    "    Sets = []\n",
    "    for set in data:\n",
    "        Sets.append(set)\n",
    "    return Sets\n",
    "\n",
    "def get_Descriptions(subsets):\n",
    "    f_des = open('Sets_description.yaml', 'r')\n",
    "    d_des = yaml.safe_load(f_des)\n",
    "    descriptions = []\n",
    "    for set in subsets:\n",
    "        descriptions.append(d_des[set])\n",
    "    return descriptions"
   ]
  },
  {
   "cell_type": "code",
   "execution_count": 3,
   "metadata": {
    "tags": [
     "remove-cell"
    ]
   },
   "outputs": [
    {
     "data": {
      "application/papermill.record/text/plain": "'36.77'"
     },
     "metadata": {
      "scrapbook": {
       "mime_prefix": "application/papermill.record/",
       "name": "MAD_P30"
      }
     },
     "output_type": "display_data"
    },
    {
     "data": {
      "application/papermill.record/text/plain": "'P30-5'"
     },
     "metadata": {
      "scrapbook": {
       "mime_prefix": "application/papermill.record/",
       "name": "set_name"
      }
     },
     "output_type": "display_data"
    },
    {
     "data": {
      "application/papermill.record/text/plain": "'GNOF'"
     },
     "metadata": {
      "scrapbook": {
       "mime_prefix": "application/papermill.record/",
       "name": "nof"
      }
     },
     "output_type": "display_data"
    }
   ],
   "source": [
    "from myst_nb import glue\n",
    "MAD_P30 = get_total_MAD_of_whole_set(data)\n",
    "glue(\"MAD_P30\", \"{:.2f}\".format(MAD_P30), display=False)\n",
    "glue(\"set_name\", set_name, display=False)\n",
    "glue(\"nof\", nof, display=False)"
   ]
  },
  {
   "cell_type": "markdown",
   "metadata": {},
   "source": [
    "```{admonition} Mean Absolute Deviation (MAD) of the set\n",
    ":class: tip\n",
    "\n",
    "- Computed as the sum of all Absolute Deviations (AD) divided by 30 (the number of reactions on the set).\n",
    "\n",
    "---\n",
    "\n",
    "**MAD {glue:}`set_name`** = {glue:}`MAD_P30` kcal/mol\n",
    "```"
   ]
  },
  {
   "cell_type": "code",
   "execution_count": 4,
   "metadata": {
    "tags": [
     "remove-input"
    ]
   },
   "outputs": [
    {
     "data": {
      "text/html": [
       "    <style>\n",
       "        .bk-notebook-logo {\n",
       "            display: block;\n",
       "            width: 20px;\n",
       "            height: 20px;\n",
       "            background-image: url(data:image/png;base64,iVBORw0KGgoAAAANSUhEUgAAABQAAAAUCAYAAACNiR0NAAAABHNCSVQICAgIfAhkiAAAAAlwSFlzAAALEgAACxIB0t1+/AAAABx0RVh0U29mdHdhcmUAQWRvYmUgRmlyZXdvcmtzIENTNui8sowAAAOkSURBVDiNjZRtaJVlGMd/1/08zzln5zjP1LWcU9N0NkN8m2CYjpgQYQXqSs0I84OLIC0hkEKoPtiH3gmKoiJDU7QpLgoLjLIQCpEsNJ1vqUOdO7ppbuec5+V+rj4ctwzd8IIbbi6u+8f1539dt3A78eXC7QizUF7gyV1fD1Yqg4JWz84yffhm0qkFqBogB9rM8tZdtwVsPUhWhGcFJngGeWrPzHm5oaMmkfEg1usvLFyc8jLRqDOMru7AyC8saQr7GG7f5fvDeH7Ej8CM66nIF+8yngt6HWaKh7k49Soy9nXurCi1o3qUbS3zWfrYeQDTB/Qj6kX6Ybhw4B+bOYoLKCC9H3Nu/leUTZ1JdRWkkn2ldcCamzrcf47KKXdAJllSlxAOkRgyHsGC/zRday5Qld9DyoM4/q/rUoy/CXh3jzOu3bHUVZeU+DEn8FInkPBFlu3+nW3Nw0mk6vCDiWg8CeJaxEwuHS3+z5RgY+YBR6V1Z1nxSOfoaPa4LASWxxdNp+VWTk7+4vzaou8v8PN+xo+KY2xsw6une2frhw05CTYOmQvsEhjhWjn0bmXPjpE1+kplmmkP3suftwTubK9Vq22qKmrBhpY4jvd5afdRA3wGjFAgcnTK2s4hY0/GPNIb0nErGMCRxWOOX64Z8RAC4oCXdklmEvcL8o0BfkNK4lUg9HTl+oPlQxdNo3Mg4Nv175e/1LDGzZen30MEjRUtmXSfiTVu1kK8W4txyV6BMKlbgk3lMwYCiusNy9fVfvvwMxv8Ynl6vxoByANLTWplvuj/nF9m2+PDtt1eiHPBr1oIfhCChQMBw6Aw0UulqTKZdfVvfG7VcfIqLG9bcldL/+pdWTLxLUy8Qq38heUIjh4XlzZxzQm19lLFlr8vdQ97rjZVOLf8nclzckbcD4wxXMidpX30sFd37Fv/GtwwhzhxGVAprjbg0gCAEeIgwCZyTV2Z1REEW8O4py0wsjeloKoMr6iCY6dP92H6Vw/oTyICIthibxjm/DfN9lVz8IqtqKYLUXfoKVMVQVVJOElGjrnnUt9T9wbgp8AyYKaGlqingHZU/uG2NTZSVqwHQTWkx9hxjkpWDaCg6Ckj5qebgBVbT3V3NNXMSiWSDdGV3hrtzla7J+duwPOToIg42ChPQOQjspnSlp1V+Gjdged7+8UN5CRAV7a5EdFNwCjEaBR27b3W890TE7g24NAP/mMDXRWrGoFPQI9ls/MWO2dWFAar/xcOIImbbpA3zgAAAABJRU5ErkJggg==);\n",
       "        }\n",
       "    </style>\n",
       "    <div>\n",
       "        <a href=\"https://bokeh.org\" target=\"_blank\" class=\"bk-notebook-logo\"></a>\n",
       "        <span id=\"fc63f6f4-1516-4d5f-9771-3db99e2600a6\">Loading BokehJS ...</span>\n",
       "    </div>\n"
      ]
     },
     "metadata": {},
     "output_type": "display_data"
    },
    {
     "data": {
      "application/javascript": "'use strict';\n(function(root) {\n  function now() {\n    return new Date();\n  }\n\n  const force = true;\n\n  if (typeof root._bokeh_onload_callbacks === \"undefined\" || force === true) {\n    root._bokeh_onload_callbacks = [];\n    root._bokeh_is_loading = undefined;\n  }\n\nconst JS_MIME_TYPE = 'application/javascript';\n  const HTML_MIME_TYPE = 'text/html';\n  const EXEC_MIME_TYPE = 'application/vnd.bokehjs_exec.v0+json';\n  const CLASS_NAME = 'output_bokeh rendered_html';\n\n  /**\n   * Render data to the DOM node\n   */\n  function render(props, node) {\n    const script = document.createElement(\"script\");\n    node.appendChild(script);\n  }\n\n  /**\n   * Handle when an output is cleared or removed\n   */\n  function handleClearOutput(event, handle) {\n    function drop(id) {\n      const view = Bokeh.index.get_by_id(id)\n      if (view != null) {\n        view.model.document.clear()\n        Bokeh.index.delete(view)\n      }\n    }\n\n    const cell = handle.cell;\n\n    const id = cell.output_area._bokeh_element_id;\n    const server_id = cell.output_area._bokeh_server_id;\n\n    // Clean up Bokeh references\n    if (id != null) {\n      drop(id)\n    }\n\n    if (server_id !== undefined) {\n      // Clean up Bokeh references\n      const cmd_clean = \"from bokeh.io.state import curstate; print(curstate().uuid_to_server['\" + server_id + \"'].get_sessions()[0].document.roots[0]._id)\";\n      cell.notebook.kernel.execute(cmd_clean, {\n        iopub: {\n          output: function(msg) {\n            const id = msg.content.text.trim()\n            drop(id)\n          }\n        }\n      });\n      // Destroy server and session\n      const cmd_destroy = \"import bokeh.io.notebook as ion; ion.destroy_server('\" + server_id + \"')\";\n      cell.notebook.kernel.execute(cmd_destroy);\n    }\n  }\n\n  /**\n   * Handle when a new output is added\n   */\n  function handleAddOutput(event, handle) {\n    const output_area = handle.output_area;\n    const output = handle.output;\n\n    // limit handleAddOutput to display_data with EXEC_MIME_TYPE content only\n    if ((output.output_type != \"display_data\") || (!Object.prototype.hasOwnProperty.call(output.data, EXEC_MIME_TYPE))) {\n      return\n    }\n\n    const toinsert = output_area.element.find(\".\" + CLASS_NAME.split(' ')[0]);\n\n    if (output.metadata[EXEC_MIME_TYPE][\"id\"] !== undefined) {\n      toinsert[toinsert.length - 1].firstChild.textContent = output.data[JS_MIME_TYPE];\n      // store reference to embed id on output_area\n      output_area._bokeh_element_id = output.metadata[EXEC_MIME_TYPE][\"id\"];\n    }\n    if (output.metadata[EXEC_MIME_TYPE][\"server_id\"] !== undefined) {\n      const bk_div = document.createElement(\"div\");\n      bk_div.innerHTML = output.data[HTML_MIME_TYPE];\n      const script_attrs = bk_div.children[0].attributes;\n      for (let i = 0; i < script_attrs.length; i++) {\n        toinsert[toinsert.length - 1].firstChild.setAttribute(script_attrs[i].name, script_attrs[i].value);\n        toinsert[toinsert.length - 1].firstChild.textContent = bk_div.children[0].textContent\n      }\n      // store reference to server id on output_area\n      output_area._bokeh_server_id = output.metadata[EXEC_MIME_TYPE][\"server_id\"];\n    }\n  }\n\n  function register_renderer(events, OutputArea) {\n\n    function append_mime(data, metadata, element) {\n      // create a DOM node to render to\n      const toinsert = this.create_output_subarea(\n        metadata,\n        CLASS_NAME,\n        EXEC_MIME_TYPE\n      );\n      this.keyboard_manager.register_events(toinsert);\n      // Render to node\n      const props = {data: data, metadata: metadata[EXEC_MIME_TYPE]};\n      render(props, toinsert[toinsert.length - 1]);\n      element.append(toinsert);\n      return toinsert\n    }\n\n    /* Handle when an output is cleared or removed */\n    events.on('clear_output.CodeCell', handleClearOutput);\n    events.on('delete.Cell', handleClearOutput);\n\n    /* Handle when a new output is added */\n    events.on('output_added.OutputArea', handleAddOutput);\n\n    /**\n     * Register the mime type and append_mime function with output_area\n     */\n    OutputArea.prototype.register_mime_type(EXEC_MIME_TYPE, append_mime, {\n      /* Is output safe? */\n      safe: true,\n      /* Index of renderer in `output_area.display_order` */\n      index: 0\n    });\n  }\n\n  // register the mime type if in Jupyter Notebook environment and previously unregistered\n  if (root.Jupyter !== undefined) {\n    const events = require('base/js/events');\n    const OutputArea = require('notebook/js/outputarea').OutputArea;\n\n    if (OutputArea.prototype.mime_types().indexOf(EXEC_MIME_TYPE) == -1) {\n      register_renderer(events, OutputArea);\n    }\n  }\n  if (typeof (root._bokeh_timeout) === \"undefined\" || force === true) {\n    root._bokeh_timeout = Date.now() + 5000;\n    root._bokeh_failed_load = false;\n  }\n\n  const NB_LOAD_WARNING = {'data': {'text/html':\n     \"<div style='background-color: #fdd'>\\n\"+\n     \"<p>\\n\"+\n     \"BokehJS does not appear to have successfully loaded. If loading BokehJS from CDN, this \\n\"+\n     \"may be due to a slow or bad network connection. Possible fixes:\\n\"+\n     \"</p>\\n\"+\n     \"<ul>\\n\"+\n     \"<li>re-rerun `output_notebook()` to attempt to load from CDN again, or</li>\\n\"+\n     \"<li>use INLINE resources instead, as so:</li>\\n\"+\n     \"</ul>\\n\"+\n     \"<code>\\n\"+\n     \"from bokeh.resources import INLINE\\n\"+\n     \"output_notebook(resources=INLINE)\\n\"+\n     \"</code>\\n\"+\n     \"</div>\"}};\n\n  function display_loaded(error = null) {\n    const el = document.getElementById(\"fc63f6f4-1516-4d5f-9771-3db99e2600a6\");\n    if (el != null) {\n      const html = (() => {\n        if (typeof root.Bokeh === \"undefined\") {\n          if (error == null) {\n            return \"BokehJS is loading ...\";\n          } else {\n            return \"BokehJS failed to load.\";\n          }\n        } else {\n          const prefix = `BokehJS ${root.Bokeh.version}`;\n          if (error == null) {\n            return `${prefix} successfully loaded.`;\n          } else {\n            return `${prefix} <b>encountered errors</b> while loading and may not function as expected.`;\n          }\n        }\n      })();\n      el.innerHTML = html;\n\n      if (error != null) {\n        const wrapper = document.createElement(\"div\");\n        wrapper.style.overflow = \"auto\";\n        wrapper.style.height = \"5em\";\n        wrapper.style.resize = \"vertical\";\n        const content = document.createElement(\"div\");\n        content.style.fontFamily = \"monospace\";\n        content.style.whiteSpace = \"pre-wrap\";\n        content.style.backgroundColor = \"rgb(255, 221, 221)\";\n        content.textContent = error.stack ?? error.toString();\n        wrapper.append(content);\n        el.append(wrapper);\n      }\n    } else if (Date.now() < root._bokeh_timeout) {\n      setTimeout(() => display_loaded(error), 100);\n    }\n  }\n\n  function run_callbacks() {\n    try {\n      root._bokeh_onload_callbacks.forEach(function(callback) {\n        if (callback != null)\n          callback();\n      });\n    } finally {\n      delete root._bokeh_onload_callbacks\n    }\n    console.debug(\"Bokeh: all callbacks have finished\");\n  }\n\n  function load_libs(css_urls, js_urls, callback) {\n    if (css_urls == null) css_urls = [];\n    if (js_urls == null) js_urls = [];\n\n    root._bokeh_onload_callbacks.push(callback);\n    if (root._bokeh_is_loading > 0) {\n      console.debug(\"Bokeh: BokehJS is being loaded, scheduling callback at\", now());\n      return null;\n    }\n    if (js_urls == null || js_urls.length === 0) {\n      run_callbacks();\n      return null;\n    }\n    console.debug(\"Bokeh: BokehJS not loaded, scheduling load and callback at\", now());\n    root._bokeh_is_loading = css_urls.length + js_urls.length;\n\n    function on_load() {\n      root._bokeh_is_loading--;\n      if (root._bokeh_is_loading === 0) {\n        console.debug(\"Bokeh: all BokehJS libraries/stylesheets loaded\");\n        run_callbacks()\n      }\n    }\n\n    function on_error(url) {\n      console.error(\"failed to load \" + url);\n    }\n\n    for (let i = 0; i < css_urls.length; i++) {\n      const url = css_urls[i];\n      const element = document.createElement(\"link\");\n      element.onload = on_load;\n      element.onerror = on_error.bind(null, url);\n      element.rel = \"stylesheet\";\n      element.type = \"text/css\";\n      element.href = url;\n      console.debug(\"Bokeh: injecting link tag for BokehJS stylesheet: \", url);\n      document.body.appendChild(element);\n    }\n\n    for (let i = 0; i < js_urls.length; i++) {\n      const url = js_urls[i];\n      const element = document.createElement('script');\n      element.onload = on_load;\n      element.onerror = on_error.bind(null, url);\n      element.async = false;\n      element.src = url;\n      console.debug(\"Bokeh: injecting script tag for BokehJS library: \", url);\n      document.head.appendChild(element);\n    }\n  };\n\n  function inject_raw_css(css) {\n    const element = document.createElement(\"style\");\n    element.appendChild(document.createTextNode(css));\n    document.body.appendChild(element);\n  }\n\n  const js_urls = [\"https://cdn.bokeh.org/bokeh/release/bokeh-3.6.2.min.js\", \"https://cdn.bokeh.org/bokeh/release/bokeh-gl-3.6.2.min.js\", \"https://cdn.bokeh.org/bokeh/release/bokeh-widgets-3.6.2.min.js\", \"https://cdn.bokeh.org/bokeh/release/bokeh-tables-3.6.2.min.js\", \"https://cdn.bokeh.org/bokeh/release/bokeh-mathjax-3.6.2.min.js\"];\n  const css_urls = [];\n\n  const inline_js = [    function(Bokeh) {\n      Bokeh.set_log_level(\"info\");\n    },\nfunction(Bokeh) {\n    }\n  ];\n\n  function run_inline_js() {\n    if (root.Bokeh !== undefined || force === true) {\n      try {\n            for (let i = 0; i < inline_js.length; i++) {\n      inline_js[i].call(root, root.Bokeh);\n    }\n\n      } catch (error) {display_loaded(error);throw error;\n      }if (force === true) {\n        display_loaded();\n      }} else if (Date.now() < root._bokeh_timeout) {\n      setTimeout(run_inline_js, 100);\n    } else if (!root._bokeh_failed_load) {\n      console.log(\"Bokeh: BokehJS failed to load within specified timeout.\");\n      root._bokeh_failed_load = true;\n    } else if (force !== true) {\n      const cell = $(document.getElementById(\"fc63f6f4-1516-4d5f-9771-3db99e2600a6\")).parents('.cell').data().cell;\n      cell.output_area.append_execute_result(NB_LOAD_WARNING)\n    }\n  }\n\n  if (root._bokeh_is_loading === 0) {\n    console.debug(\"Bokeh: BokehJS loaded, going straight to plotting\");\n    run_inline_js();\n  } else {\n    load_libs(css_urls, js_urls, function() {\n      console.debug(\"Bokeh: BokehJS plotting callback run at\", now());\n      run_inline_js();\n    });\n  }\n}(window));",
      "application/vnd.bokehjs_load.v0+json": ""
     },
     "metadata": {},
     "output_type": "display_data"
    }
   ],
   "source": [
    "from bokeh.plotting import figure, show, output_notebook\n",
    "output_notebook()"
   ]
  },
  {
   "cell_type": "markdown",
   "metadata": {},
   "source": [
    "```{admonition} Contribution of each subset to Mean Absolute Deviation of the set\n",
    ":class: note\n",
    ":class: dropdown\n",
    "\n",
    "The following plot indicates the contribution of each subset to the MAD of the whole set.\n",
    "- Computed as the sum of the Absolute Deviations of each subset divided by 30.\n",
    "- The sum of each bar result in MAD_{glue:}`set_name`\n",
    "```"
   ]
  },
  {
   "cell_type": "code",
   "execution_count": 5,
   "metadata": {
    "tags": [
     "remove-input",
     "full-width"
    ]
   },
   "outputs": [
    {
     "data": {
      "text/html": [
       "\n",
       "  <div id=\"a9b569d6-8976-4457-9add-1b4e447c1384\" data-root-id=\"p1004\" style=\"display: contents;\"></div>\n"
      ]
     },
     "metadata": {},
     "output_type": "display_data"
    },
    {
     "data": {
      "application/javascript": "(function(root) {\n  function embed_document(root) {\n  const docs_json = {\"c9be5b91-abcc-4a63-a40b-feb954433490\":{\"version\":\"3.6.2\",\"title\":\"Bokeh Application\",\"roots\":[{\"type\":\"object\",\"name\":\"Figure\",\"id\":\"p1004\",\"attributes\":{\"width\":1050,\"height\":400,\"x_range\":{\"type\":\"object\",\"name\":\"FactorRange\",\"id\":\"p1014\",\"attributes\":{\"factors\":[\"ALKBDE10\",\"SIE4x4\",\"BH76\",\"W4-11\",\"G2RC\",\"DC13\"]}},\"y_range\":{\"type\":\"object\",\"name\":\"DataRange1d\",\"id\":\"p1006\"},\"x_scale\":{\"type\":\"object\",\"name\":\"CategoricalScale\",\"id\":\"p1015\"},\"y_scale\":{\"type\":\"object\",\"name\":\"LinearScale\",\"id\":\"p1016\"},\"title\":{\"type\":\"object\",\"name\":\"Title\",\"id\":\"p1007\",\"attributes\":{\"text\":\"Contribution to P30-5 GNOF Mean Absolute Deviation\"}},\"renderers\":[{\"type\":\"object\",\"name\":\"GlyphRenderer\",\"id\":\"p1047\",\"attributes\":{\"data_source\":{\"type\":\"object\",\"name\":\"ColumnDataSource\",\"id\":\"p1001\",\"attributes\":{\"selected\":{\"type\":\"object\",\"name\":\"Selection\",\"id\":\"p1002\",\"attributes\":{\"indices\":[],\"line_indices\":[]}},\"selection_policy\":{\"type\":\"object\",\"name\":\"UnionRenderers\",\"id\":\"p1003\"},\"data\":{\"type\":\"map\",\"entries\":[[\"subsets\",[\"ALKBDE10\",\"SIE4x4\",\"BH76\",\"W4-11\",\"G2RC\",\"DC13\"]],[\"counts\",[2.8960802379944095,1.1835195200090516,3.6134442666788957,26.8932596509325,0.8820203333840515,1.2992881544191357]],[\"description\",[\"Dissociation energies in group-1 and -2 diatomics\",\"Self-interaction-error related problems\",\"Barrier heights of hydrogen transfer, heavy atom transfer, nucleophilic substitution, unimolecular and association reactions\",\"Total atomisation energies\",\"Reaction energies of selected G2/97 systems\",\"13 difficult cases for DFT methods\"]]]}}},\"view\":{\"type\":\"object\",\"name\":\"CDSView\",\"id\":\"p1048\",\"attributes\":{\"filter\":{\"type\":\"object\",\"name\":\"AllIndices\",\"id\":\"p1049\"}}},\"glyph\":{\"type\":\"object\",\"name\":\"VBar\",\"id\":\"p1044\",\"attributes\":{\"x\":{\"type\":\"field\",\"field\":\"subsets\"},\"width\":{\"type\":\"value\",\"value\":0.9},\"top\":{\"type\":\"field\",\"field\":\"counts\"},\"line_color\":{\"type\":\"value\",\"value\":\"white\"},\"fill_color\":{\"type\":\"field\",\"field\":\"counts\",\"transform\":{\"type\":\"object\",\"name\":\"LinearColorMapper\",\"id\":\"p1040\",\"attributes\":{\"palette\":[\"#006837\",\"#1a9850\",\"#66bd63\",\"#a6d96a\",\"#d9ef8b\",\"#ffffbf\",\"#fee08b\",\"#fdae61\",\"#f46d43\",\"#d73027\",\"#a50026\"],\"low\":0.8820203333840515,\"high\":26.8932596509325}}}}},\"nonselection_glyph\":{\"type\":\"object\",\"name\":\"VBar\",\"id\":\"p1045\",\"attributes\":{\"x\":{\"type\":\"field\",\"field\":\"subsets\"},\"width\":{\"type\":\"value\",\"value\":0.9},\"top\":{\"type\":\"field\",\"field\":\"counts\"},\"line_color\":{\"type\":\"value\",\"value\":\"white\"},\"line_alpha\":{\"type\":\"value\",\"value\":0.1},\"fill_color\":{\"type\":\"field\",\"field\":\"counts\",\"transform\":{\"id\":\"p1040\"}},\"fill_alpha\":{\"type\":\"value\",\"value\":0.1},\"hatch_alpha\":{\"type\":\"value\",\"value\":0.1}}},\"muted_glyph\":{\"type\":\"object\",\"name\":\"VBar\",\"id\":\"p1046\",\"attributes\":{\"x\":{\"type\":\"field\",\"field\":\"subsets\"},\"width\":{\"type\":\"value\",\"value\":0.9},\"top\":{\"type\":\"field\",\"field\":\"counts\"},\"line_color\":{\"type\":\"value\",\"value\":\"white\"},\"line_alpha\":{\"type\":\"value\",\"value\":0.2},\"fill_color\":{\"type\":\"field\",\"field\":\"counts\",\"transform\":{\"id\":\"p1040\"}},\"fill_alpha\":{\"type\":\"value\",\"value\":0.2},\"hatch_alpha\":{\"type\":\"value\",\"value\":0.2}}}}}],\"toolbar\":{\"type\":\"object\",\"name\":\"Toolbar\",\"id\":\"p1013\",\"attributes\":{\"tools\":[{\"type\":\"object\",\"name\":\"PanTool\",\"id\":\"p1027\"},{\"type\":\"object\",\"name\":\"WheelZoomTool\",\"id\":\"p1028\",\"attributes\":{\"renderers\":\"auto\"}},{\"type\":\"object\",\"name\":\"BoxZoomTool\",\"id\":\"p1029\",\"attributes\":{\"overlay\":{\"type\":\"object\",\"name\":\"BoxAnnotation\",\"id\":\"p1030\",\"attributes\":{\"syncable\":false,\"line_color\":\"black\",\"line_alpha\":1.0,\"line_width\":2,\"line_dash\":[4,4],\"fill_color\":\"lightgrey\",\"fill_alpha\":0.5,\"level\":\"overlay\",\"visible\":false,\"left\":{\"type\":\"number\",\"value\":\"nan\"},\"right\":{\"type\":\"number\",\"value\":\"nan\"},\"top\":{\"type\":\"number\",\"value\":\"nan\"},\"bottom\":{\"type\":\"number\",\"value\":\"nan\"},\"left_units\":\"canvas\",\"right_units\":\"canvas\",\"top_units\":\"canvas\",\"bottom_units\":\"canvas\",\"handles\":{\"type\":\"object\",\"name\":\"BoxInteractionHandles\",\"id\":\"p1036\",\"attributes\":{\"all\":{\"type\":\"object\",\"name\":\"AreaVisuals\",\"id\":\"p1035\",\"attributes\":{\"fill_color\":\"white\",\"hover_fill_color\":\"lightgray\"}}}}}}}},{\"type\":\"object\",\"name\":\"SaveTool\",\"id\":\"p1037\"},{\"type\":\"object\",\"name\":\"ResetTool\",\"id\":\"p1038\"},{\"type\":\"object\",\"name\":\"HelpTool\",\"id\":\"p1039\"},{\"type\":\"object\",\"name\":\"HoverTool\",\"id\":\"p1050\",\"attributes\":{\"renderers\":\"auto\",\"tooltips\":[[\"Description\",\"@description\"],[\"MAD\",\"@counts\"]]}}]}},\"left\":[{\"type\":\"object\",\"name\":\"LinearAxis\",\"id\":\"p1022\",\"attributes\":{\"ticker\":{\"type\":\"object\",\"name\":\"BasicTicker\",\"id\":\"p1023\",\"attributes\":{\"mantissas\":[1,2,5]}},\"formatter\":{\"type\":\"object\",\"name\":\"BasicTickFormatter\",\"id\":\"p1024\"},\"axis_label\":\"Contribution to MAD_P30-5 (kcal/mol)\",\"major_label_policy\":{\"type\":\"object\",\"name\":\"AllLabels\",\"id\":\"p1025\"}}}],\"below\":[{\"type\":\"object\",\"name\":\"CategoricalAxis\",\"id\":\"p1017\",\"attributes\":{\"ticker\":{\"type\":\"object\",\"name\":\"CategoricalTicker\",\"id\":\"p1018\"},\"formatter\":{\"type\":\"object\",\"name\":\"CategoricalTickFormatter\",\"id\":\"p1019\"},\"axis_label\":\"Sets\",\"major_label_orientation\":1.5707963267948966,\"major_label_policy\":{\"type\":\"object\",\"name\":\"AllLabels\",\"id\":\"p1020\"}}}],\"center\":[{\"type\":\"object\",\"name\":\"Grid\",\"id\":\"p1021\",\"attributes\":{\"axis\":{\"id\":\"p1017\"},\"grid_line_color\":null}},{\"type\":\"object\",\"name\":\"Grid\",\"id\":\"p1026\",\"attributes\":{\"dimension\":1,\"axis\":{\"id\":\"p1022\"}}}]}}]}};\n  const render_items = [{\"docid\":\"c9be5b91-abcc-4a63-a40b-feb954433490\",\"roots\":{\"p1004\":\"a9b569d6-8976-4457-9add-1b4e447c1384\"},\"root_ids\":[\"p1004\"]}];\n  void root.Bokeh.embed.embed_items_notebook(docs_json, render_items);\n  }\n  if (root.Bokeh !== undefined) {\n    embed_document(root);\n  } else {\n    let attempts = 0;\n    const timer = setInterval(function(root) {\n      if (root.Bokeh !== undefined) {\n        clearInterval(timer);\n        embed_document(root);\n      } else {\n        attempts++;\n        if (attempts > 100) {\n          clearInterval(timer);\n          console.log(\"Bokeh: ERROR: Unable to run BokehJS code because BokehJS library is missing\");\n        }\n      }\n    }, 10, root)\n  }\n})(window);",
      "application/vnd.bokehjs_exec.v0+json": ""
     },
     "metadata": {
      "application/vnd.bokehjs_exec.v0+json": {
       "id": "p1004"
      }
     },
     "output_type": "display_data"
    }
   ],
   "source": [
    "import math\n",
    "from bokeh.plotting import figure, show\n",
    "from bokeh.models import ColumnDataSource, HoverTool, TapTool\n",
    "from bokeh.palettes import RdYlGn\n",
    "from bokeh.transform import linear_cmap\n",
    "\n",
    "subsets = get_Sets(data)\n",
    "counts = get_contribution_to_total_MADs(data)\n",
    "description = get_Descriptions(subsets)\n",
    "\n",
    "source = ColumnDataSource(data=dict(subsets=subsets, counts=counts, description=description))\n",
    "\n",
    "p = figure(x_range=subsets, width=1050, height=400, title=\"Contribution to {} {} Mean Absolute Deviation\".format(set_name, nof))\n",
    "\n",
    "p.xaxis.major_label_orientation = math.pi/2\n",
    "\n",
    "p.vbar(x='subsets', top='counts', width=0.9, source=source,\n",
    "       fill_color=linear_cmap('counts', palette=RdYlGn[11], low=min(counts), high=max(counts)), \n",
    "        line_color=\"white\")\n",
    "\n",
    "p.xaxis.axis_label = \"Sets\"\n",
    "p.yaxis.axis_label = \"Contribution to MAD_{} (kcal/mol)\".format(set_name)\n",
    "p.xgrid.grid_line_color = None\n",
    "\n",
    "#p.add_tools(TapTool())\n",
    "hover = HoverTool(tooltips=[\n",
    "    (\"Description\", \"@description\"),\n",
    "    (\"MAD\", \"@counts\"),\n",
    "])\n",
    "p.add_tools(hover)\n",
    "\n",
    "show(p)"
   ]
  },
  {
   "cell_type": "markdown",
   "metadata": {},
   "source": [
    "```{admonition} Mean Absolute Deviation per subset\n",
    ":class: note\n",
    ":class: dropdown\n",
    "\n",
    "The following plot indicates the MAD of each subset.\n",
    "- Computed as the sum of the Absolute Deviations of each subset divided by the number of reactions in the subset.\n",
    "```"
   ]
  },
  {
   "cell_type": "code",
   "execution_count": 6,
   "metadata": {
    "tags": [
     "remove-input",
     "full-width"
    ]
   },
   "outputs": [
    {
     "data": {
      "text/html": [
       "\n",
       "  <div id=\"feca0129-4d28-4844-85e3-1049778ff04a\" data-root-id=\"p1054\" style=\"display: contents;\"></div>\n"
      ]
     },
     "metadata": {},
     "output_type": "display_data"
    },
    {
     "data": {
      "application/javascript": "(function(root) {\n  function embed_document(root) {\n  const docs_json = {\"a3b538e2-e92d-4985-a633-5fe73c5517f1\":{\"version\":\"3.6.2\",\"title\":\"Bokeh Application\",\"roots\":[{\"type\":\"object\",\"name\":\"Figure\",\"id\":\"p1054\",\"attributes\":{\"width\":1050,\"height\":400,\"x_range\":{\"type\":\"object\",\"name\":\"FactorRange\",\"id\":\"p1064\",\"attributes\":{\"factors\":[\"ALKBDE10\",\"SIE4x4\",\"BH76\",\"W4-11\",\"G2RC\",\"DC13\"]}},\"y_range\":{\"type\":\"object\",\"name\":\"DataRange1d\",\"id\":\"p1056\"},\"x_scale\":{\"type\":\"object\",\"name\":\"CategoricalScale\",\"id\":\"p1065\"},\"y_scale\":{\"type\":\"object\",\"name\":\"LinearScale\",\"id\":\"p1066\"},\"title\":{\"type\":\"object\",\"name\":\"Title\",\"id\":\"p1057\",\"attributes\":{\"text\":\"P30-5 GNOF Mean Absolute Deviation of each set\"}},\"renderers\":[{\"type\":\"object\",\"name\":\"GlyphRenderer\",\"id\":\"p1097\",\"attributes\":{\"data_source\":{\"type\":\"object\",\"name\":\"ColumnDataSource\",\"id\":\"p1051\",\"attributes\":{\"selected\":{\"type\":\"object\",\"name\":\"Selection\",\"id\":\"p1052\",\"attributes\":{\"indices\":[],\"line_indices\":[]}},\"selection_policy\":{\"type\":\"object\",\"name\":\"UnionRenderers\",\"id\":\"p1053\"},\"data\":{\"type\":\"map\",\"entries\":[[\"subsets\",[\"ALKBDE10\",\"SIE4x4\",\"BH76\",\"W4-11\",\"G2RC\",\"DC13\"]],[\"counts\",[43.44120356991614,5.917597600045258,54.201664000183435,47.458693501645584,13.230305000760772,38.978644632574074]],[\"description\",[\"Dissociation energies in group-1 and -2 diatomics\",\"Self-interaction-error related problems\",\"Barrier heights of hydrogen transfer, heavy atom transfer, nucleophilic substitution, unimolecular and association reactions\",\"Total atomisation energies\",\"Reaction energies of selected G2/97 systems\",\"13 difficult cases for DFT methods\"]]]}}},\"view\":{\"type\":\"object\",\"name\":\"CDSView\",\"id\":\"p1098\",\"attributes\":{\"filter\":{\"type\":\"object\",\"name\":\"AllIndices\",\"id\":\"p1099\"}}},\"glyph\":{\"type\":\"object\",\"name\":\"VBar\",\"id\":\"p1094\",\"attributes\":{\"x\":{\"type\":\"field\",\"field\":\"subsets\"},\"width\":{\"type\":\"value\",\"value\":0.9},\"top\":{\"type\":\"field\",\"field\":\"counts\"},\"line_color\":{\"type\":\"value\",\"value\":\"white\"},\"fill_color\":{\"type\":\"field\",\"field\":\"counts\",\"transform\":{\"type\":\"object\",\"name\":\"LinearColorMapper\",\"id\":\"p1090\",\"attributes\":{\"palette\":[\"#006837\",\"#1a9850\",\"#66bd63\",\"#a6d96a\",\"#d9ef8b\",\"#ffffbf\",\"#fee08b\",\"#fdae61\",\"#f46d43\",\"#d73027\",\"#a50026\"],\"low\":5.917597600045258,\"high\":54.201664000183435}}}}},\"nonselection_glyph\":{\"type\":\"object\",\"name\":\"VBar\",\"id\":\"p1095\",\"attributes\":{\"x\":{\"type\":\"field\",\"field\":\"subsets\"},\"width\":{\"type\":\"value\",\"value\":0.9},\"top\":{\"type\":\"field\",\"field\":\"counts\"},\"line_color\":{\"type\":\"value\",\"value\":\"white\"},\"line_alpha\":{\"type\":\"value\",\"value\":0.1},\"fill_color\":{\"type\":\"field\",\"field\":\"counts\",\"transform\":{\"id\":\"p1090\"}},\"fill_alpha\":{\"type\":\"value\",\"value\":0.1},\"hatch_alpha\":{\"type\":\"value\",\"value\":0.1}}},\"muted_glyph\":{\"type\":\"object\",\"name\":\"VBar\",\"id\":\"p1096\",\"attributes\":{\"x\":{\"type\":\"field\",\"field\":\"subsets\"},\"width\":{\"type\":\"value\",\"value\":0.9},\"top\":{\"type\":\"field\",\"field\":\"counts\"},\"line_color\":{\"type\":\"value\",\"value\":\"white\"},\"line_alpha\":{\"type\":\"value\",\"value\":0.2},\"fill_color\":{\"type\":\"field\",\"field\":\"counts\",\"transform\":{\"id\":\"p1090\"}},\"fill_alpha\":{\"type\":\"value\",\"value\":0.2},\"hatch_alpha\":{\"type\":\"value\",\"value\":0.2}}}}}],\"toolbar\":{\"type\":\"object\",\"name\":\"Toolbar\",\"id\":\"p1063\",\"attributes\":{\"tools\":[{\"type\":\"object\",\"name\":\"PanTool\",\"id\":\"p1077\"},{\"type\":\"object\",\"name\":\"WheelZoomTool\",\"id\":\"p1078\",\"attributes\":{\"renderers\":\"auto\"}},{\"type\":\"object\",\"name\":\"BoxZoomTool\",\"id\":\"p1079\",\"attributes\":{\"overlay\":{\"type\":\"object\",\"name\":\"BoxAnnotation\",\"id\":\"p1080\",\"attributes\":{\"syncable\":false,\"line_color\":\"black\",\"line_alpha\":1.0,\"line_width\":2,\"line_dash\":[4,4],\"fill_color\":\"lightgrey\",\"fill_alpha\":0.5,\"level\":\"overlay\",\"visible\":false,\"left\":{\"type\":\"number\",\"value\":\"nan\"},\"right\":{\"type\":\"number\",\"value\":\"nan\"},\"top\":{\"type\":\"number\",\"value\":\"nan\"},\"bottom\":{\"type\":\"number\",\"value\":\"nan\"},\"left_units\":\"canvas\",\"right_units\":\"canvas\",\"top_units\":\"canvas\",\"bottom_units\":\"canvas\",\"handles\":{\"type\":\"object\",\"name\":\"BoxInteractionHandles\",\"id\":\"p1086\",\"attributes\":{\"all\":{\"type\":\"object\",\"name\":\"AreaVisuals\",\"id\":\"p1085\",\"attributes\":{\"fill_color\":\"white\",\"hover_fill_color\":\"lightgray\"}}}}}}}},{\"type\":\"object\",\"name\":\"SaveTool\",\"id\":\"p1087\"},{\"type\":\"object\",\"name\":\"ResetTool\",\"id\":\"p1088\"},{\"type\":\"object\",\"name\":\"HelpTool\",\"id\":\"p1089\"},{\"type\":\"object\",\"name\":\"HoverTool\",\"id\":\"p1100\",\"attributes\":{\"renderers\":\"auto\",\"tooltips\":[[\"Description\",\"@description\"],[\"MAD\",\"@counts\"]]}}]}},\"left\":[{\"type\":\"object\",\"name\":\"LinearAxis\",\"id\":\"p1072\",\"attributes\":{\"ticker\":{\"type\":\"object\",\"name\":\"BasicTicker\",\"id\":\"p1073\",\"attributes\":{\"mantissas\":[1,2,5]}},\"formatter\":{\"type\":\"object\",\"name\":\"BasicTickFormatter\",\"id\":\"p1074\"},\"axis_label\":\"MAD (kcal/mol) for each subset\",\"major_label_policy\":{\"type\":\"object\",\"name\":\"AllLabels\",\"id\":\"p1075\"}}}],\"below\":[{\"type\":\"object\",\"name\":\"CategoricalAxis\",\"id\":\"p1067\",\"attributes\":{\"ticker\":{\"type\":\"object\",\"name\":\"CategoricalTicker\",\"id\":\"p1068\"},\"formatter\":{\"type\":\"object\",\"name\":\"CategoricalTickFormatter\",\"id\":\"p1069\"},\"axis_label\":\"Sets\",\"major_label_orientation\":1.5707963267948966,\"major_label_policy\":{\"type\":\"object\",\"name\":\"AllLabels\",\"id\":\"p1070\"}}}],\"center\":[{\"type\":\"object\",\"name\":\"Grid\",\"id\":\"p1071\",\"attributes\":{\"axis\":{\"id\":\"p1067\"},\"grid_line_color\":null}},{\"type\":\"object\",\"name\":\"Grid\",\"id\":\"p1076\",\"attributes\":{\"dimension\":1,\"axis\":{\"id\":\"p1072\"}}}]}}]}};\n  const render_items = [{\"docid\":\"a3b538e2-e92d-4985-a633-5fe73c5517f1\",\"roots\":{\"p1054\":\"feca0129-4d28-4844-85e3-1049778ff04a\"},\"root_ids\":[\"p1054\"]}];\n  void root.Bokeh.embed.embed_items_notebook(docs_json, render_items);\n  }\n  if (root.Bokeh !== undefined) {\n    embed_document(root);\n  } else {\n    let attempts = 0;\n    const timer = setInterval(function(root) {\n      if (root.Bokeh !== undefined) {\n        clearInterval(timer);\n        embed_document(root);\n      } else {\n        attempts++;\n        if (attempts > 100) {\n          clearInterval(timer);\n          console.log(\"Bokeh: ERROR: Unable to run BokehJS code because BokehJS library is missing\");\n        }\n      }\n    }, 10, root)\n  }\n})(window);",
      "application/vnd.bokehjs_exec.v0+json": ""
     },
     "metadata": {
      "application/vnd.bokehjs_exec.v0+json": {
       "id": "p1054"
      }
     },
     "output_type": "display_data"
    }
   ],
   "source": [
    "import math\n",
    "from bokeh.plotting import figure, show\n",
    "from bokeh.models import ColumnDataSource, HoverTool, TapTool\n",
    "from bokeh.palettes import RdYlGn\n",
    "from bokeh.transform import linear_cmap\n",
    "\n",
    "subsets = get_Sets(data)\n",
    "counts = get_MADs(data)\n",
    "description = get_Descriptions(subsets)\n",
    "\n",
    "source = ColumnDataSource(data=dict(subsets=subsets, counts=counts, description=description))\n",
    "\n",
    "p = figure(x_range=subsets, width=1050, height=400, title=\"{} {} Mean Absolute Deviation of each set\".format(set_name, nof))\n",
    "\n",
    "p.xaxis.major_label_orientation = math.pi/2\n",
    "\n",
    "p.vbar(x='subsets', top='counts', width=0.9, source=source,\n",
    "       fill_color=linear_cmap('counts', palette=RdYlGn[11], low=min(counts), high=max(counts)), \n",
    "        line_color=\"white\")\n",
    "\n",
    "p.xaxis.axis_label = \"Sets\"\n",
    "p.yaxis.axis_label = \"MAD (kcal/mol) for each subset\"\n",
    "p.xgrid.grid_line_color = None\n",
    "\n",
    "#p.add_tools(TapTool())\n",
    "hover = HoverTool(tooltips=[\n",
    "    (\"Description\", \"@description\"),\n",
    "    (\"MAD\", \"@counts\"),\n",
    "])\n",
    "p.add_tools(hover)\n",
    "\n",
    "show(p)"
   ]
  },
  {
   "cell_type": "code",
   "execution_count": 9,
   "metadata": {
    "tags": [
     "remove-input"
    ]
   },
   "outputs": [],
   "source": [
    "import ipywidgets as widgets\n",
    "from IPython.display import display\n",
    "import py3Dmol\n",
    "\n",
    "def plot_molecules(data):\n",
    "\n",
    "    subsets = get_Sets(data)\n",
    "    nsets = len(subsets)\n",
    "    dropdown_options = dict(zip(data.keys(), range(nsets)))\n",
    "    descriptions = get_Descriptions(subsets)\n",
    "\n",
    "    set_dropdown = widgets.Dropdown(\n",
    "        options=dropdown_options,\n",
    "        value=0,\n",
    "        description='Set:'\n",
    "    )\n",
    "\n",
    "    set_box = widgets.VBox()\n",
    "\n",
    "    set_stack = widgets.Stack()\n",
    "    set_box.children = [set_dropdown, set_stack]\n",
    "\n",
    "    widgets.jslink((set_dropdown, 'index'), (set_stack, 'selected_index'))\n",
    "\n",
    "    boxes = []\n",
    "    for h,set in enumerate(data):\n",
    "        set_description = widgets.Text(\n",
    "            value=descriptions[h],\n",
    "            description='Description: ',\n",
    "            style={'description_width': 'max-content'},\n",
    "            disabled=False\n",
    "        )\n",
    "\n",
    "        system_box = widgets.VBox()\n",
    "\n",
    "        system_label = widgets.Label(value=\"Systems (Reactions)\")\n",
    "        system_tabs = widgets.Tab()\n",
    "        system_box.children = [set_description, system_label, system_tabs]\n",
    "\n",
    "        system_tabs.children = [widgets.VBox() for system in data[set]]\n",
    "        for i,system in enumerate(data[set]):\n",
    "            system_tabs.set_title(i, str(system))\n",
    "\n",
    "            mols_box = widgets.VBox()\n",
    "            mols_label = widgets.Label(value=\"Molecules\")\n",
    "            mols_tabs = widgets.Tab()\n",
    "            mols_box.children = [mols_label, mols_tabs]\n",
    "\n",
    "            mols_tabs.children = [widgets.VBox() for specie in data[set][system][\"Species\"]]\n",
    "            childrens = []\n",
    "            for j,specie in enumerate(data[set][system][\"Species\"]):\n",
    "                url = \"url:https://raw.githubusercontent.com/stephengdale/poison-set/refs/heads/main/{}/{}.xyz\".format(\n",
    "                    set_name, specie\n",
    "                )\n",
    "                viewer = py3Dmol.view(url, width=280, height=300)\n",
    "                viewer.setStyle({'stick': {'radius': .1}, 'sphere': {'scale': 0.25}})\n",
    "                viewer.zoomTo()\n",
    "                childrens.append(widgets.Output())\n",
    "                with childrens[-1]:\n",
    "                    viewer.show()\n",
    "            mols_tabs.children = childrens\n",
    "            for j,specie in enumerate(data[set][system][\"Species\"]):\n",
    "                mols_tabs.set_title(j, str(specie))\n",
    "\n",
    "            species_box = widgets.VBox([widgets.Label(\"Specie\")] + [widgets.Label(\"{}\".format(specie)) for specie in data[set][system][\"Species\"]])\n",
    "            E_NOF_box = widgets.VBox([widgets.Label(\"E_NOF\")] + [widgets.Label(\"{:>9.3f} Ha\".format(data[set][system][\"Species\"][specie][\"E_NOF\"])) for specie in data[set][system][\"Species\"]], layout=widgets.Layout(align_items='center'))\n",
    "            Stoichiometry_box = widgets.VBox([widgets.Label(\"Stoichiometry\")] + [widgets.Label(\"{:^15}\".format(data[set][system][\"Species\"][specie][\"Count\"])) for specie in data[set][system][\"Species\"]], layout=widgets.Layout(align_items='center'))\n",
    "            Ncwo_box = widgets.VBox([widgets.Label(\"Ncwo\")] + [widgets.Label(\"{:^15}\".format(data[set][system][\"Species\"][specie][\"Ncwo\"])) for specie in data[set][system][\"Species\"]], layout=widgets.Layout(align_items='center'))\n",
    "            # charge_box = widgets.VBox([widgets.Label(\"Charge\")] + [widgets.Label(\"{}\".format(data[set][system][\"Species\"][specie][\"Charge\"])) for specie in data[set][system][\"Species\"]], layout=widgets.Layout(align_items='center'))\n",
    "            # mult_box = widgets.VBox([widgets.Label(\"Mult\")] + [widgets.Label(\"{}\".format(data[set][system][\"Species\"][specie][\"Multiplicity\"]+1)) for specie in data[set][system][\"Species\"]], layout=widgets.Layout(align_items='center'))\n",
    "            text_specie_w = widgets.HBox([species_box, E_NOF_box, Stoichiometry_box, Ncwo_box])#, charge_box, mult_box])\n",
    "\n",
    "            text_E_NOF_w = widgets.Text(\n",
    "                value=\"{:.3f} kcal/mol\".format(data[set][system][\"dE_NOF\"]*627.15),\n",
    "                description='ΔE_NOF',\n",
    "                disabled=False\n",
    "            )\n",
    "\n",
    "            text_E_ref_w = widgets.Text(\n",
    "                value=\"{:.3f} kcal/mol\".format(data[set][system][\"dE_Ref\"]),\n",
    "                description='ΔE_Ref',\n",
    "                disabled=False\n",
    "            )\n",
    "\n",
    "            text_AD_w = widgets.Text(\n",
    "               value=\"{:.3f} kcal/mol\".format(data[set][system][\"AD\"]),\n",
    "               description='Abs. Dev.',\n",
    "               disabled=False\n",
    "            )\n",
    "\n",
    "            # text_weight_w = widgets.Text(\n",
    "            #    value=\"{:.3f}\".format(data[set][system][\"Weight\"]),\n",
    "            #    description='Weight',\n",
    "            #    disabled=False\n",
    "            # )\n",
    "\n",
    "            # text_WTMAD2_w = widgets.Text(\n",
    "            #    value=\"{:.3f}\".format(data[set][system][\"WTMAD2\"]),\n",
    "            #    description='WTMAD2',\n",
    "            #    disabled=False\n",
    "            # )\n",
    "\n",
    "            system_tabs.children[i].children = [mols_box, text_specie_w,\n",
    "                                             text_E_NOF_w, text_E_ref_w,\n",
    "                                             text_AD_w]#, text_weight_w,\n",
    "            # text_WTMAD2_w]\n",
    "        boxes.append(system_box)\n",
    "\n",
    "    set_stack.children = boxes\n",
    "\n",
    "    return set_box"
   ]
  },
  {
   "cell_type": "code",
   "execution_count": 10,
   "metadata": {
    "tags": [
     "remove-input",
     "full-width"
    ]
   },
   "outputs": [
    {
     "data": {
      "application/vnd.jupyter.widget-view+json": {
       "model_id": "f7c51fa66c0542718bb84498ee2d6467",
       "version_major": 2,
       "version_minor": 0
      },
      "text/plain": [
       "VBox(children=(Dropdown(description='Set:', options={'ALKBDE10': 0, 'SIE4x4': 1, 'BH76': 2, 'W4-11': 3, 'G2RC'…"
      ]
     },
     "metadata": {},
     "output_type": "display_data"
    }
   ],
   "source": [
    "nsets = len(list(data.items()))\n",
    "step = nsets\n",
    "for i in range(0, nsets, nsets):\n",
    "    data_n = dict(list(data.items())[i:min(i+step,nsets)])\n",
    "    tabs = plot_molecules(data_n)\n",
    "    display(tabs)"
   ]
  }
 ],
 "metadata": {
  "kernelspec": {
   "display_name": "jb",
   "language": "python",
   "name": "python3"
  },
  "language_info": {
   "codemirror_mode": {
    "name": "ipython",
    "version": 3
   },
   "file_extension": ".py",
   "mimetype": "text/x-python",
   "name": "python",
   "nbconvert_exporter": "python",
   "pygments_lexer": "ipython3",
   "version": "3.13.1"
  }
 },
 "nbformat": 4,
 "nbformat_minor": 4
}
